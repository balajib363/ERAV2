{
  "nbformat": 4,
  "nbformat_minor": 0,
  "metadata": {
    "colab": {
      "provenance": [],
      "gpuType": "T4"
    },
    "kernelspec": {
      "name": "python3",
      "display_name": "Python 3"
    },
    "language_info": {
      "name": "python"
    },
    "accelerator": "GPU"
  },
  "cells": [
    {
      "cell_type": "markdown",
      "source": [
        "# Custom Yolo-v3 model training\n",
        "**Dataset details**  \n",
        "Classname : Exit signboard  \n",
        "Total images : 102"
      ],
      "metadata": {
        "id": "mZStAgvrnrjV"
      }
    },
    {
      "cell_type": "code",
      "execution_count": 1,
      "metadata": {
        "colab": {
          "base_uri": "https://localhost:8080/"
        },
        "id": "Xa7ilJOy2TCX",
        "outputId": "171ec92a-c859-4b4b-9671-f6080637494b"
      },
      "outputs": [
        {
          "output_type": "stream",
          "name": "stdout",
          "text": [
            "Mounted at /content/gdrive\n"
          ]
        }
      ],
      "source": [
        "from google.colab import drive\n",
        "drive.mount('/content/gdrive', force_remount=True)"
      ]
    },
    {
      "cell_type": "code",
      "source": [
        "%cd '/content/gdrive/MyDrive/ERA V2/session12/YoloV3'"
      ],
      "metadata": {
        "colab": {
          "base_uri": "https://localhost:8080/"
        },
        "id": "Kd1njIAF2dDw",
        "outputId": "40e9ef5c-2591-42b5-c9e3-00899e17fc25"
      },
      "execution_count": 2,
      "outputs": [
        {
          "output_type": "stream",
          "name": "stdout",
          "text": [
            "/content/gdrive/MyDrive/ERA V2/session12/YoloV3\n"
          ]
        }
      ]
    },
    {
      "cell_type": "code",
      "source": [
        "# !pip install \"numpy<1.24.0\""
      ],
      "metadata": {
        "id": "TD_YHRpm3qNT"
      },
      "execution_count": 3,
      "outputs": []
    },
    {
      "cell_type": "code",
      "source": [
        "!python train.py --data data/customdata/custom.data --batch 10 --cache --cfg cfg/yolov3-custom.cfg --epochs 40 --device 0 --nosave"
      ],
      "metadata": {
        "colab": {
          "base_uri": "https://localhost:8080/"
        },
        "id": "iUe3MMut2dBL",
        "outputId": "cd5ba2da-7e0a-462d-e7d4-0e7fd877efcf"
      },
      "execution_count": 4,
      "outputs": [
        {
          "output_type": "stream",
          "name": "stdout",
          "text": [
            "Namespace(epochs=40, batch_size=10, accumulate=4, cfg='cfg/yolov3-custom.cfg', data='data/customdata/custom.data', multi_scale=False, img_size=[512], rect=False, resume=False, nosave=True, notest=False, evolve=False, bucket='', cache_images=True, weights='weights/yolov3-spp-ultralytics.pt', name='', device='0', adam=False, single_cls=False)\n",
            "Using CUDA device0 _CudaDeviceProperties(name='Tesla T4', total_memory=15102MB)\n",
            "\n",
            "2024-04-19 18:03:02.211115: E external/local_xla/xla/stream_executor/cuda/cuda_dnn.cc:9261] Unable to register cuDNN factory: Attempting to register factory for plugin cuDNN when one has already been registered\n",
            "2024-04-19 18:03:02.211167: E external/local_xla/xla/stream_executor/cuda/cuda_fft.cc:607] Unable to register cuFFT factory: Attempting to register factory for plugin cuFFT when one has already been registered\n",
            "2024-04-19 18:03:02.213193: E external/local_xla/xla/stream_executor/cuda/cuda_blas.cc:1515] Unable to register cuBLAS factory: Attempting to register factory for plugin cuBLAS when one has already been registered\n",
            "2024-04-19 18:03:05.300286: W tensorflow/compiler/tf2tensorrt/utils/py_utils.cc:38] TF-TRT Warning: Could not find TensorRT\n",
            "Run 'tensorboard --logdir=runs' to view tensorboard at http://localhost:6006/\n",
            "WARNING: smart bias initialization failure.\n",
            "WARNING: smart bias initialization failure.\n",
            "WARNING: smart bias initialization failure.\n",
            "Model Summary: 225 layers, 6.25733e+07 parameters, 6.25733e+07 gradients\n",
            "Caching labels (101 found, 0 missing, 0 empty, 0 duplicate, for 101 images): 100% 101/101 [01:07<00:00,  1.50it/s]\n",
            "Caching images (0.1GB): 100% 101/101 [00:36<00:00,  2.75it/s]\n",
            "Caching labels (101 found, 0 missing, 0 empty, 0 duplicate, for 101 images): 100% 101/101 [00:00<00:00, 428.13it/s]\n",
            "Caching images (0.1GB): 100% 101/101 [00:01<00:00, 64.75it/s]\n",
            "Image sizes 512 - 512 train, 512 test\n",
            "Using 2 dataloader workers\n",
            "Starting training for 40 epochs...\n",
            "\n",
            "     Epoch   gpu_mem      GIoU       obj       cls     total   targets  img_size\n",
            "/usr/lib/python3.10/multiprocessing/popen_fork.py:66: RuntimeWarning: os.fork() was called. os.fork() is incompatible with multithreaded code, and JAX is multithreaded, so this will likely lead to a deadlock.\n",
            "  self.pid = os.fork()\n",
            "  0% 0/11 [00:00<?, ?it/s]/content/gdrive/MyDrive/ERA V2/session12/YoloV3/utils/utils.py:374: UserWarning: The torch.cuda.*DtypeTensor constructors are no longer recommended. It's best to use methods such as torch.tensor(data, dtype=*, device='cuda') to create tensors. (Triggered internally at ../torch/csrc/tensor/python_tensor.cpp:83.)\n",
            "  lcls, lbox, lobj = ft([0]), ft([0]), ft([0])\n",
            "/usr/local/lib/python3.10/dist-packages/torch/cuda/memory.py:440: FutureWarning: torch.cuda.memory_cached has been renamed to torch.cuda.memory_reserved\n",
            "  warnings.warn(\n",
            "      0/39     7.74G      9.18       160         0       169        25       512:   9% 1/11 [00:07<01:15,  7.55s/it]/usr/local/lib/python3.10/dist-packages/torch/cuda/memory.py:440: FutureWarning: torch.cuda.memory_cached has been renamed to torch.cuda.memory_reserved\n",
            "  warnings.warn(\n",
            "      0/39      7.8G      9.15      74.6         0      83.8         1       512: 100% 11/11 [00:15<00:00,  1.37s/it]\n",
            "/usr/local/lib/python3.10/dist-packages/torch/functional.py:507: UserWarning: torch.meshgrid: in an upcoming release, it will be required to pass the indexing argument. (Triggered internally at ../aten/src/ATen/native/TensorShape.cpp:3549.)\n",
            "  return _VF.meshgrid(tensors, **kwargs)  # type: ignore[attr-defined]\n",
            "               Class    Images   Targets         P         R   mAP@0.5        F1:   0% 0/11 [00:00<?, ?it/s]/usr/lib/python3.10/multiprocessing/popen_fork.py:66: RuntimeWarning: os.fork() was called. os.fork() is incompatible with multithreaded code, and JAX is multithreaded, so this will likely lead to a deadlock.\n",
            "  self.pid = os.fork()\n",
            "               Class    Images   Targets         P         R   mAP@0.5        F1: 100% 11/11 [00:05<00:00,  1.99it/s]\n",
            "                 all       101       122   0.00168    0.0492   0.00062   0.00324\n",
            "\n",
            "     Epoch   gpu_mem      GIoU       obj       cls     total   targets  img_size\n",
            "      1/39     7.28G      8.51      5.93         0      14.4         2       512: 100% 11/11 [00:08<00:00,  1.35it/s]\n",
            "               Class    Images   Targets         P         R   mAP@0.5        F1: 100% 11/11 [00:03<00:00,  2.82it/s]\n",
            "                 all       101       122         0         0   0.00173         0\n",
            "\n",
            "     Epoch   gpu_mem      GIoU       obj       cls     total   targets  img_size\n",
            "      2/39     9.11G      8.18      4.21         0      12.4         1       512: 100% 11/11 [00:08<00:00,  1.33it/s]\n",
            "               Class    Images   Targets         P         R   mAP@0.5        F1: 100% 11/11 [00:02<00:00,  4.40it/s]\n",
            "                 all       101       122         0         0   0.00304         0\n",
            "\n",
            "     Epoch   gpu_mem      GIoU       obj       cls     total   targets  img_size\n",
            "      3/39     9.11G      7.49      5.27         0      12.8         2       512: 100% 11/11 [00:08<00:00,  1.32it/s]\n",
            "               Class    Images   Targets         P         R   mAP@0.5        F1: 100% 11/11 [00:02<00:00,  4.23it/s]\n",
            "                 all       101       122         0         0   0.00565         0\n",
            "\n",
            "     Epoch   gpu_mem      GIoU       obj       cls     total   targets  img_size\n",
            "      4/39     9.11G      6.73      5.07         0      11.8         1       512: 100% 11/11 [00:08<00:00,  1.29it/s]\n",
            "               Class    Images   Targets         P         R   mAP@0.5        F1: 100% 11/11 [00:02<00:00,  4.16it/s]\n",
            "                 all       101       122         1    0.0082    0.0982    0.0163\n",
            "\n",
            "     Epoch   gpu_mem      GIoU       obj       cls     total   targets  img_size\n",
            "      5/39     9.11G      6.28      4.77         0        11         1       512: 100% 11/11 [00:08<00:00,  1.25it/s]\n",
            "               Class    Images   Targets         P         R   mAP@0.5        F1: 100% 11/11 [00:02<00:00,  4.36it/s]\n",
            "                 all       101       122     0.152    0.0082     0.138    0.0156\n",
            "\n",
            "     Epoch   gpu_mem      GIoU       obj       cls     total   targets  img_size\n",
            "      6/39     9.11G      5.45      4.67         0      10.1         1       512: 100% 11/11 [00:08<00:00,  1.24it/s]\n",
            "               Class    Images   Targets         P         R   mAP@0.5        F1: 100% 11/11 [00:02<00:00,  4.43it/s]\n",
            "                 all       101       122     0.119     0.557     0.155     0.197\n",
            "\n",
            "     Epoch   gpu_mem      GIoU       obj       cls     total   targets  img_size\n",
            "      7/39     9.11G      5.09      3.24         0      8.33         1       512: 100% 11/11 [00:08<00:00,  1.29it/s]\n",
            "               Class    Images   Targets         P         R   mAP@0.5        F1: 100% 11/11 [00:02<00:00,  4.07it/s]\n",
            "                 all       101       122    0.0487      0.73      0.15    0.0913\n",
            "\n",
            "     Epoch   gpu_mem      GIoU       obj       cls     total   targets  img_size\n",
            "      8/39     9.11G      5.24      2.41         0      7.64         1       512: 100% 11/11 [00:08<00:00,  1.30it/s]\n",
            "               Class    Images   Targets         P         R   mAP@0.5        F1: 100% 11/11 [00:02<00:00,  4.52it/s]\n",
            "                 all       101       122    0.0302     0.689    0.0783    0.0578\n",
            "\n",
            "     Epoch   gpu_mem      GIoU       obj       cls     total   targets  img_size\n",
            "      9/39     9.11G      5.13      2.02         0      7.15         1       512: 100% 11/11 [00:08<00:00,  1.31it/s]\n",
            "               Class    Images   Targets         P         R   mAP@0.5        F1: 100% 11/11 [00:02<00:00,  4.13it/s]\n",
            "                 all       101       122    0.0271     0.869    0.0664    0.0526\n",
            "\n",
            "     Epoch   gpu_mem      GIoU       obj       cls     total   targets  img_size\n",
            "     10/39     9.11G      5.28      1.77         0      7.05         1       512: 100% 11/11 [00:08<00:00,  1.30it/s]\n",
            "               Class    Images   Targets         P         R   mAP@0.5        F1: 100% 11/11 [00:02<00:00,  4.15it/s]\n",
            "                 all       101       122    0.0775     0.582    0.0896     0.137\n",
            "\n",
            "     Epoch   gpu_mem      GIoU       obj       cls     total   targets  img_size\n",
            "     11/39     9.11G      5.02      2.06         0      7.08         4       512: 100% 11/11 [00:08<00:00,  1.29it/s]\n",
            "               Class    Images   Targets         P         R   mAP@0.5        F1: 100% 11/11 [00:02<00:00,  4.33it/s]\n",
            "                 all       101       122     0.135     0.754      0.23      0.23\n",
            "\n",
            "     Epoch   gpu_mem      GIoU       obj       cls     total   targets  img_size\n",
            "     12/39     9.11G      4.41      1.55         0      5.96         2       512: 100% 11/11 [00:08<00:00,  1.25it/s]\n",
            "               Class    Images   Targets         P         R   mAP@0.5        F1: 100% 11/11 [00:02<00:00,  4.46it/s]\n",
            "                 all       101       122     0.136     0.934     0.425     0.238\n",
            "\n",
            "     Epoch   gpu_mem      GIoU       obj       cls     total   targets  img_size\n",
            "     13/39     9.11G      4.06      1.47         0      5.52         1       512: 100% 11/11 [00:08<00:00,  1.27it/s]\n",
            "               Class    Images   Targets         P         R   mAP@0.5        F1: 100% 11/11 [00:02<00:00,  4.39it/s]\n",
            "                 all       101       122     0.164     0.918      0.52     0.278\n",
            "\n",
            "     Epoch   gpu_mem      GIoU       obj       cls     total   targets  img_size\n",
            "     14/39     9.11G      3.87      1.56         0      5.43         2       512: 100% 11/11 [00:08<00:00,  1.28it/s]\n",
            "               Class    Images   Targets         P         R   mAP@0.5        F1: 100% 11/11 [00:02<00:00,  4.43it/s]\n",
            "                 all       101       122     0.228     0.893     0.645     0.363\n",
            "\n",
            "     Epoch   gpu_mem      GIoU       obj       cls     total   targets  img_size\n",
            "     15/39     9.11G      4.32      1.39         0      5.71         1       512: 100% 11/11 [00:08<00:00,  1.29it/s]\n",
            "               Class    Images   Targets         P         R   mAP@0.5        F1: 100% 11/11 [00:02<00:00,  4.47it/s]\n",
            "                 all       101       122     0.242      0.82     0.362     0.374\n",
            "\n",
            "     Epoch   gpu_mem      GIoU       obj       cls     total   targets  img_size\n",
            "     16/39     9.11G      4.08      1.32         0       5.4         2       512: 100% 11/11 [00:08<00:00,  1.29it/s]\n",
            "               Class    Images   Targets         P         R   mAP@0.5        F1: 100% 11/11 [00:02<00:00,  4.17it/s]\n",
            "                 all       101       122     0.454     0.869     0.783     0.596\n",
            "\n",
            "     Epoch   gpu_mem      GIoU       obj       cls     total   targets  img_size\n",
            "     17/39     9.11G      3.73      1.16         0      4.89         1       512: 100% 11/11 [00:08<00:00,  1.31it/s]\n",
            "               Class    Images   Targets         P         R   mAP@0.5        F1: 100% 11/11 [00:02<00:00,  4.26it/s]\n",
            "                 all       101       122     0.491     0.934     0.819     0.644\n",
            "\n",
            "     Epoch   gpu_mem      GIoU       obj       cls     total   targets  img_size\n",
            "     18/39     9.11G      3.59      1.28         0      4.86         2       512: 100% 11/11 [00:08<00:00,  1.27it/s]\n",
            "               Class    Images   Targets         P         R   mAP@0.5        F1: 100% 11/11 [00:02<00:00,  4.46it/s]\n",
            "                 all       101       122     0.378     0.926     0.672     0.537\n",
            "\n",
            "     Epoch   gpu_mem      GIoU       obj       cls     total   targets  img_size\n",
            "     19/39     9.11G      3.25      1.15         0      4.39         2       512: 100% 11/11 [00:08<00:00,  1.27it/s]\n",
            "               Class    Images   Targets         P         R   mAP@0.5        F1: 100% 11/11 [00:02<00:00,  4.44it/s]\n",
            "                 all       101       122     0.334     0.943     0.388     0.493\n",
            "\n",
            "     Epoch   gpu_mem      GIoU       obj       cls     total   targets  img_size\n",
            "     20/39     9.11G      3.27      1.28         0      4.56         3       512: 100% 11/11 [00:08<00:00,  1.28it/s]\n",
            "               Class    Images   Targets         P         R   mAP@0.5        F1: 100% 11/11 [00:02<00:00,  4.40it/s]\n",
            "                 all       101       122     0.276     0.852     0.292     0.417\n",
            "\n",
            "     Epoch   gpu_mem      GIoU       obj       cls     total   targets  img_size\n",
            "     21/39     9.11G      3.21      1.33         0      4.54         4       512: 100% 11/11 [00:08<00:00,  1.28it/s]\n",
            "               Class    Images   Targets         P         R   mAP@0.5        F1: 100% 11/11 [00:02<00:00,  4.42it/s]\n",
            "                 all       101       122     0.668     0.922     0.826     0.774\n",
            "\n",
            "     Epoch   gpu_mem      GIoU       obj       cls     total   targets  img_size\n",
            "     22/39     9.11G      3.06      1.13         0      4.19         1       512: 100% 11/11 [00:08<00:00,  1.29it/s]\n",
            "               Class    Images   Targets         P         R   mAP@0.5        F1: 100% 11/11 [00:02<00:00,  4.23it/s]\n",
            "                 all       101       122     0.451     0.943     0.724      0.61\n",
            "\n",
            "     Epoch   gpu_mem      GIoU       obj       cls     total   targets  img_size\n",
            "     23/39     9.11G      3.37      1.08         0      4.45         2       512: 100% 11/11 [00:08<00:00,  1.29it/s]\n",
            "               Class    Images   Targets         P         R   mAP@0.5        F1: 100% 11/11 [00:02<00:00,  4.11it/s]\n",
            "                 all       101       122     0.645     0.967     0.834     0.774\n",
            "\n",
            "     Epoch   gpu_mem      GIoU       obj       cls     total   targets  img_size\n",
            "     24/39     9.11G      2.89      1.12         0      4.01         3       512: 100% 11/11 [00:08<00:00,  1.29it/s]\n",
            "               Class    Images   Targets         P         R   mAP@0.5        F1: 100% 11/11 [00:02<00:00,  4.25it/s]\n",
            "                 all       101       122     0.722     0.975     0.848      0.83\n",
            "\n",
            "     Epoch   gpu_mem      GIoU       obj       cls     total   targets  img_size\n",
            "     25/39     9.11G      2.97      1.13         0       4.1         1       512: 100% 11/11 [00:08<00:00,  1.27it/s]\n",
            "               Class    Images   Targets         P         R   mAP@0.5        F1: 100% 11/11 [00:02<00:00,  4.40it/s]\n",
            "                 all       101       122     0.644     0.967      0.87     0.773\n",
            "\n",
            "     Epoch   gpu_mem      GIoU       obj       cls     total   targets  img_size\n",
            "     26/39     9.11G      2.88      0.95         0      3.83         1       512: 100% 11/11 [00:08<00:00,  1.28it/s]\n",
            "               Class    Images   Targets         P         R   mAP@0.5        F1: 100% 11/11 [00:02<00:00,  4.43it/s]\n",
            "                 all       101       122     0.729      0.97     0.898     0.832\n",
            "\n",
            "     Epoch   gpu_mem      GIoU       obj       cls     total   targets  img_size\n",
            "     27/39     9.11G      2.98     0.985         0      3.97         1       512: 100% 11/11 [00:08<00:00,  1.30it/s]\n",
            "               Class    Images   Targets         P         R   mAP@0.5        F1: 100% 11/11 [00:02<00:00,  4.45it/s]\n",
            "                 all       101       122     0.719     0.951     0.797     0.819\n",
            "\n",
            "     Epoch   gpu_mem      GIoU       obj       cls     total   targets  img_size\n",
            "     28/39     9.11G      2.66       1.4         0      4.07         3       512: 100% 11/11 [00:08<00:00,  1.29it/s]\n",
            "               Class    Images   Targets         P         R   mAP@0.5        F1: 100% 11/11 [00:02<00:00,  4.41it/s]\n",
            "                 all       101       122     0.508     0.951     0.685     0.662\n",
            "\n",
            "     Epoch   gpu_mem      GIoU       obj       cls     total   targets  img_size\n",
            "     29/39     9.11G      2.65     0.949         0       3.6         2       512: 100% 11/11 [00:08<00:00,  1.29it/s]\n",
            "               Class    Images   Targets         P         R   mAP@0.5        F1: 100% 11/11 [00:02<00:00,  4.22it/s]\n",
            "                 all       101       122     0.623     0.975     0.856     0.761\n",
            "\n",
            "     Epoch   gpu_mem      GIoU       obj       cls     total   targets  img_size\n",
            "     30/39     9.11G      2.51     0.943         0      3.46         1       512: 100% 11/11 [00:08<00:00,  1.29it/s]\n",
            "               Class    Images   Targets         P         R   mAP@0.5        F1: 100% 11/11 [00:02<00:00,  4.04it/s]\n",
            "                 all       101       122     0.595     0.967     0.717     0.737\n",
            "\n",
            "     Epoch   gpu_mem      GIoU       obj       cls     total   targets  img_size\n",
            "     31/39     9.11G      2.47       1.1         0      3.57         2       512: 100% 11/11 [00:08<00:00,  1.28it/s]\n",
            "               Class    Images   Targets         P         R   mAP@0.5        F1: 100% 11/11 [00:02<00:00,  4.29it/s]\n",
            "                 all       101       122     0.426     0.975     0.442     0.593\n",
            "\n",
            "     Epoch   gpu_mem      GIoU       obj       cls     total   targets  img_size\n",
            "     32/39     9.11G      2.36     0.819         0      3.18         1       512: 100% 11/11 [00:08<00:00,  1.25it/s]\n",
            "               Class    Images   Targets         P         R   mAP@0.5        F1: 100% 11/11 [00:02<00:00,  4.40it/s]\n",
            "                 all       101       122     0.187     0.934     0.209     0.312\n",
            "\n",
            "     Epoch   gpu_mem      GIoU       obj       cls     total   targets  img_size\n",
            "     33/39     9.11G      2.63     0.943         0      3.57         1       512: 100% 11/11 [00:08<00:00,  1.28it/s]\n",
            "               Class    Images   Targets         P         R   mAP@0.5        F1: 100% 11/11 [00:02<00:00,  4.47it/s]\n",
            "                 all       101       122     0.105     0.918     0.112     0.189\n",
            "\n",
            "     Epoch   gpu_mem      GIoU       obj       cls     total   targets  img_size\n",
            "     34/39     9.11G      2.19     0.918         0       3.1         1       512: 100% 11/11 [00:08<00:00,  1.29it/s]\n",
            "               Class    Images   Targets         P         R   mAP@0.5        F1: 100% 11/11 [00:02<00:00,  4.30it/s]\n",
            "                 all       101       122     0.143     0.943     0.152     0.249\n",
            "\n",
            "     Epoch   gpu_mem      GIoU       obj       cls     total   targets  img_size\n",
            "     35/39     9.11G      2.42     0.939         0      3.36         1       512: 100% 11/11 [00:08<00:00,  1.25it/s]\n",
            "               Class    Images   Targets         P         R   mAP@0.5        F1: 100% 11/11 [00:02<00:00,  4.41it/s]\n",
            "                 all       101       122     0.337     0.951     0.379     0.498\n",
            "\n",
            "     Epoch   gpu_mem      GIoU       obj       cls     total   targets  img_size\n",
            "     36/39     9.11G      2.21     0.791         0      3.01         1       512: 100% 11/11 [00:08<00:00,  1.28it/s]\n",
            "               Class    Images   Targets         P         R   mAP@0.5        F1: 100% 11/11 [00:02<00:00,  4.20it/s]\n",
            "                 all       101       122     0.413     0.951      0.52     0.576\n",
            "\n",
            "     Epoch   gpu_mem      GIoU       obj       cls     total   targets  img_size\n",
            "     37/39     9.11G       2.3     0.935         0      3.23         2       512: 100% 11/11 [00:08<00:00,  1.28it/s]\n",
            "               Class    Images   Targets         P         R   mAP@0.5        F1: 100% 11/11 [00:02<00:00,  4.01it/s]\n",
            "                 all       101       122     0.396     0.951     0.511     0.559\n",
            "\n",
            "     Epoch   gpu_mem      GIoU       obj       cls     total   targets  img_size\n",
            "     38/39     9.11G      2.25     0.922         0      3.18         1       512: 100% 11/11 [00:08<00:00,  1.27it/s]\n",
            "               Class    Images   Targets         P         R   mAP@0.5        F1: 100% 11/11 [00:02<00:00,  4.30it/s]\n",
            "                 all       101       122     0.337     0.959     0.433     0.499\n",
            "\n",
            "     Epoch   gpu_mem      GIoU       obj       cls     total   targets  img_size\n",
            "     39/39     9.11G      1.85     0.862         0      2.71         0       512: 100% 11/11 [00:08<00:00,  1.26it/s]\n",
            "               Class    Images   Targets         P         R   mAP@0.5        F1: 100% 11/11 [00:02<00:00,  4.46it/s]\n",
            "                 all       101       122     0.361     0.959       0.5     0.525\n",
            "40 epochs completed in 0.128 hours.\n",
            "\n"
          ]
        }
      ]
    },
    {
      "cell_type": "code",
      "source": [
        "import torch\n",
        "torch.cuda.current_device()"
      ],
      "metadata": {
        "colab": {
          "base_uri": "https://localhost:8080/"
        },
        "id": "fxdViJIF2c-y",
        "outputId": "31d353d3-6e95-45a4-e39f-3b7f14b5b374"
      },
      "execution_count": 1,
      "outputs": [
        {
          "output_type": "execute_result",
          "data": {
            "text/plain": [
              "0"
            ]
          },
          "metadata": {},
          "execution_count": 1
        }
      ]
    },
    {
      "cell_type": "code",
      "source": [
        "!python test.py --data data/customdata/custom.data --cfg cfg/yolov3-custom.cfg --weights 'weights/last.pt' --img-size 512"
      ],
      "metadata": {
        "colab": {
          "base_uri": "https://localhost:8080/"
        },
        "id": "KmRY9heNd5JG",
        "outputId": "95147ca7-0f54-4644-955b-bf16a17b1ae5"
      },
      "execution_count": 10,
      "outputs": [
        {
          "output_type": "stream",
          "name": "stdout",
          "text": [
            "Namespace(cfg='cfg/yolov3-custom.cfg', data='data/customdata/custom.data', weights='weights/last.pt', batch_size=16, img_size=512, conf_thres=0.001, iou_thres=0.6, save_json=False, task='test', device='', single_cls=False, augment=False)\n",
            "Using CUDA device0 _CudaDeviceProperties(name='Tesla T4', total_memory=15102MB)\n",
            "\n",
            "WARNING: smart bias initialization failure.\n",
            "WARNING: smart bias initialization failure.\n",
            "WARNING: smart bias initialization failure.\n",
            "Model Summary: 225 layers, 6.25733e+07 parameters, 6.25733e+07 gradients\n",
            "Fusing layers...\n",
            "Model Summary: 152 layers, 6.25465e+07 parameters, 6.25465e+07 gradients\n",
            "Caching labels (101 found, 0 missing, 0 empty, 0 duplicate, for 101 images): 100% 101/101 [00:00<00:00, 463.79it/s]\n",
            "/usr/local/lib/python3.10/dist-packages/torch/functional.py:507: UserWarning: torch.meshgrid: in an upcoming release, it will be required to pass the indexing argument. (Triggered internally at ../aten/src/ATen/native/TensorShape.cpp:3549.)\n",
            "  return _VF.meshgrid(tensors, **kwargs)  # type: ignore[attr-defined]\n",
            "               Class    Images   Targets         P         R   mAP@0.5        F1:   0% 0/7 [00:00<?, ?it/s]/usr/lib/python3.10/multiprocessing/popen_fork.py:66: RuntimeWarning: os.fork() was called. os.fork() is incompatible with multithreaded code, and JAX is multithreaded, so this will likely lead to a deadlock.\n",
            "  self.pid = os.fork()\n",
            "               Class    Images   Targets         P         R   mAP@0.5        F1: 100% 7/7 [00:06<00:00,  1.04it/s]\n",
            "                 all       101       122     0.361     0.959       0.5     0.525\n",
            "Speed: 16.0/8.6/24.6 ms inference/NMS/total per 512x512 image at batch-size 16\n"
          ]
        }
      ]
    },
    {
      "cell_type": "code",
      "source": [
        "!python detect.py"
      ],
      "metadata": {
        "colab": {
          "base_uri": "https://localhost:8080/"
        },
        "id": "vsSVDnx_juHN",
        "outputId": "331b90cf-be5b-4165-a8a8-bf265140565e"
      },
      "execution_count": 11,
      "outputs": [
        {
          "output_type": "stream",
          "name": "stdout",
          "text": [
            "Namespace(cfg='cfg/yolov3-custom.cfg', names='data/customdata/custom.names', weights='weights/last.pt', source='data/customdata/images', output='output', img_size=512, conf_thres=0.3, iou_thres=0.6, fourcc='mp4v', half=False, device='', view_img=False, save_txt=False, classes=None, agnostic_nms=False, augment=False)\n",
            "Using CUDA device0 _CudaDeviceProperties(name='Tesla T4', total_memory=15102MB)\n",
            "\n",
            "Model Summary: 225 layers, 6.25733e+07 parameters, 6.25733e+07 gradients\n",
            "/usr/local/lib/python3.10/dist-packages/torch/functional.py:507: UserWarning: torch.meshgrid: in an upcoming release, it will be required to pass the indexing argument. (Triggered internally at ../aten/src/ATen/native/TensorShape.cpp:3549.)\n",
            "  return _VF.meshgrid(tensors, **kwargs)  # type: ignore[attr-defined]\n",
            "image 1/103 data/customdata/images/image_001.jpg: 384x512 1 exits, Done. (0.043s)\n",
            "image 2/103 data/customdata/images/image_002.jpg: 512x384 1 exits, Done. (0.077s)\n",
            "image 3/103 data/customdata/images/image_003.jpg: 512x512 2 exits, Done. (0.041s)\n",
            "image 4/103 data/customdata/images/image_004.jpg: 512x512 1 exits, Done. (0.041s)\n",
            "image 5/103 data/customdata/images/image_005.jpg: 384x512 1 exits, Done. (0.034s)\n",
            "image 6/103 data/customdata/images/image_006.jpg: 384x512 1 exits, Done. (0.034s)\n",
            "image 7/103 data/customdata/images/image_007.jpg: 384x512 1 exits, Done. (0.026s)\n",
            "image 8/103 data/customdata/images/image_008.jpg: 512x512 1 exits, Done. (0.031s)\n",
            "image 9/103 data/customdata/images/image_009.jpg: 448x512 1 exits, Done. (0.040s)\n",
            "image 10/103 data/customdata/images/image_010.jpg: 384x512 1 exits, Done. (0.024s)\n",
            "image 11/103 data/customdata/images/image_011.jpg: 320x512 2 exits, Done. (0.048s)\n",
            "image 12/103 data/customdata/images/image_012.jpg: 512x512 1 exits, Done. (0.029s)\n",
            "image 13/103 data/customdata/images/image_013.jpg: 512x512 2 exits, Done. (0.029s)\n",
            "image 14/103 data/customdata/images/image_014.jpg: 512x512 1 exits, Done. (0.029s)\n",
            "image 15/103 data/customdata/images/image_015.jpg: 384x512 2 exits, Done. (0.024s)\n",
            "image 16/103 data/customdata/images/image_016.jpg: 192x512 1 exits, Done. (0.039s)\n",
            "image 17/103 data/customdata/images/image_017.jpg: 384x512 1 exits, Done. (0.022s)\n",
            "image 18/103 data/customdata/images/image_018.jpg: 384x512 4 exits, Done. (0.022s)\n",
            "image 19/103 data/customdata/images/image_019.jpg: 384x512 1 exits, Done. (0.022s)\n",
            "image 20/103 data/customdata/images/image_020.jpg: 320x512 1 exits, Done. (0.019s)\n",
            "image 21/103 data/customdata/images/image_021.jpg: 512x512 1 exits, Done. (0.024s)\n",
            "image 22/103 data/customdata/images/image_022.jpg: 320x512 1 exits, Done. (0.018s)\n",
            "image 23/103 data/customdata/images/image_023.jpg: 448x512 1 exits, Done. (0.022s)\n",
            "image 24/103 data/customdata/images/image_024.jpg: 320x512 22 exits, Done. (0.017s)\n",
            "image 25/103 data/customdata/images/image_025.jpg: 512x320 1 exits, Done. (0.044s)\n",
            "image 26/103 data/customdata/images/image_026.jpg: 512x512 1 exits, Done. (0.023s)\n",
            "image 27/103 data/customdata/images/image_027.jpg: 512x448 1 exits, Done. (0.038s)\n",
            "image 28/103 data/customdata/images/image_028.png: 384x512 1 exits, Done. (0.019s)\n",
            "image 29/103 data/customdata/images/image_029.jpg: 384x512 1 exits, Done. (0.019s)\n",
            "image 30/103 data/customdata/images/image_030.jpg: 512x384 1 exits, Done. (0.018s)\n",
            "image 31/103 data/customdata/images/image_031.jpg: 512x384 1 exits, Done. (0.018s)\n",
            "image 32/103 data/customdata/images/image_032.jpg: 512x512 1 exits, Done. (0.021s)\n",
            "image 33/103 data/customdata/images/image_033.jpg: 512x512 5 exits, Done. (0.021s)\n",
            "image 34/103 data/customdata/images/image_034.jpg: 512x384 2 exits, Done. (0.018s)\n",
            "image 35/103 data/customdata/images/image_035.jpg: 384x512 1 exits, Done. (0.017s)\n",
            "image 36/103 data/customdata/images/image_036.jpg: 384x512 1 exits, Done. (0.017s)\n",
            "image 37/103 data/customdata/images/image_037.jpg: 512x512 1 exits, Done. (0.021s)\n",
            "image 38/103 data/customdata/images/image_038.jpg: 512x384 1 exits, Done. (0.019s)\n",
            "image 39/103 data/customdata/images/image_039.jpg: 512x512 1 exits, Done. (0.021s)\n",
            "image 40/103 data/customdata/images/image_040.jpg: 384x512 1 exits, Done. (0.017s)\n",
            "image 41/103 data/customdata/images/image_041.jpg: 320x512 1 exits, Done. (0.016s)\n",
            "image 42/103 data/customdata/images/image_042.jpg: 384x512 1 exits, Done. (0.017s)\n",
            "image 43/103 data/customdata/images/image_043.jpg: 320x512 1 exits, Done. (0.015s)\n",
            "image 44/103 data/customdata/images/image_044.jpg: 512x384 1 exits, Done. (0.018s)\n",
            "image 45/103 data/customdata/images/image_045.jpg: 384x512 1 exits, Done. (0.017s)\n",
            "image 46/103 data/customdata/images/image_046.jpg: 384x512 3 exits, Done. (0.018s)\n",
            "image 47/103 data/customdata/images/image_047.jpg: 512x512 1 exits, Done. (0.022s)\n",
            "image 48/103 data/customdata/images/image_048.jpg: 512x512 1 exits, Done. (0.022s)\n",
            "image 49/103 data/customdata/images/image_049.jpg: 384x512 1 exits, Done. (0.018s)\n",
            "image 50/103 data/customdata/images/image_050.jpg: 256x512 2 exits, Done. (0.041s)\n",
            "image 51/103 data/customdata/images/image_051.jpg: 448x512 1 exits, Done. (0.019s)\n",
            "image 52/103 data/customdata/images/image_052.jpg: 384x512 1 exits, Done. (0.017s)\n",
            "image 53/103 data/customdata/images/image_053.jpg: 320x512 3 exits, Done. (0.016s)\n",
            "image 54/103 data/customdata/images/image_054.jpg: 320x512 1 exits, Done. (0.015s)\n",
            "image 55/103 data/customdata/images/image_055.jpg: 384x512 1 exits, Done. (0.017s)\n",
            "image 56/103 data/customdata/images/image_056.jpg: 512x512 1 exits, Done. (0.025s)\n",
            "image 57/103 data/customdata/images/image_057.jpg: 320x512 7 exits, Done. (0.015s)\n",
            "image 58/103 data/customdata/images/image_058.jpg: 512x512 1 exits, Done. (0.021s)\n",
            "image 59/103 data/customdata/images/image_059.jpg: 384x512 1 exits, Done. (0.017s)\n",
            "image 60/103 data/customdata/images/image_060.jpg: 448x512 1 exits, Done. (0.020s)\n",
            "image 61/103 data/customdata/images/image_061.jpg: 512x448 1 exits, Done. (0.021s)\n",
            "image 62/103 data/customdata/images/image_062.jpg: 512x448 1 exits, Done. (0.020s)\n",
            "image 63/103 data/customdata/images/image_063.jpg: 384x512 1 exits, Done. (0.019s)\n",
            "image 64/103 data/customdata/images/image_064.jpg: 384x512 1 exits, Done. (0.017s)\n",
            "image 65/103 data/customdata/images/image_065.jpg: 512x512 1 exits, Done. (0.021s)\n",
            "image 66/103 data/customdata/images/image_066.jpg: 512x512 1 exits, Done. (0.021s)\n",
            "image 67/103 data/customdata/images/image_067.jpg: 512x512 1 exits, Done. (0.021s)\n",
            "image 68/103 data/customdata/images/image_068.jpg: 384x512 1 exits, Done. (0.017s)\n",
            "image 69/103 data/customdata/images/image_069.jpg: 448x512 1 exits, Done. (0.019s)\n",
            "image 70/103 data/customdata/images/image_070.jpg: 384x512 1 exits, Done. (0.017s)\n",
            "image 71/103 data/customdata/images/image_071.jpg: 512x512 1 exits, Done. (0.021s)\n",
            "image 72/103 data/customdata/images/image_072.jpg: 384x512 2 exits, Done. (0.017s)\n",
            "image 73/103 data/customdata/images/image_073.jpg: 384x512 1 exits, Done. (0.017s)\n",
            "image 74/103 data/customdata/images/image_074.jpg: 384x512 1 exits, Done. (0.017s)\n",
            "image 75/103 data/customdata/images/image_075.jpg: 384x512 1 exits, Done. (0.017s)\n",
            "image 76/103 data/customdata/images/image_076.jpg: 320x512 1 exits, Done. (0.021s)\n",
            "image 77/103 data/customdata/images/image_077.jpg: 512x512 1 exits, Done. (0.021s)\n",
            "image 78/103 data/customdata/images/image_078.jpg: 384x512 1 exits, Done. (0.018s)\n",
            "image 79/103 data/customdata/images/image_079.jpg: 384x512 1 exits, Done. (0.017s)\n",
            "image 80/103 data/customdata/images/image_080.jpg: 384x512 1 exits, Done. (0.017s)\n",
            "image 81/103 data/customdata/images/image_081.jpg: 320x512 1 exits, Done. (0.015s)\n",
            "image 82/103 data/customdata/images/image_082.jpg: 512x512 1 exits, Done. (0.021s)\n",
            "image 83/103 data/customdata/images/image_083.jpg: 512x512 2 exits, Done. (0.021s)\n",
            "image 84/103 data/customdata/images/image_084.jpg: 512x512 2 exits, Done. (0.021s)\n",
            "image 85/103 data/customdata/images/image_085.jpg: 512x512 1 exits, Done. (0.021s)\n",
            "image 86/103 data/customdata/images/image_086.jpg: 512x512 1 exits, Done. (0.021s)\n",
            "image 87/103 data/customdata/images/image_087.jpg: 512x512 2 exits, Done. (0.021s)\n",
            "image 88/103 data/customdata/images/image_088.jpg: 512x512 2 exits, Done. (0.021s)\n",
            "image 89/103 data/customdata/images/image_089.jpg: 512x512 1 exits, Done. (0.021s)\n",
            "image 90/103 data/customdata/images/image_090.jpg: 512x512 1 exits, Done. (0.022s)\n",
            "image 91/103 data/customdata/images/image_091.jpg: 512x512 1 exits, Done. (0.022s)\n",
            "image 92/103 data/customdata/images/image_092.jpg: 512x512 71 exits, Done. (0.022s)\n",
            "image 93/103 data/customdata/images/image_093.jpg: 512x512 1 exits, Done. (0.022s)\n",
            "image 94/103 data/customdata/images/image_094.jpg: 512x512 1 exits, Done. (0.021s)\n",
            "image 95/103 data/customdata/images/image_095.jpg: 512x512 1 exits, Done. (0.021s)\n",
            "image 96/103 data/customdata/images/image_096.jpg: 512x512 2 exits, Done. (0.021s)\n",
            "image 97/103 data/customdata/images/image_097.jpg: 512x512 1 exits, Done. (0.021s)\n",
            "image 98/103 data/customdata/images/image_098.jpg: 512x512 1 exits, Done. (0.022s)\n",
            "image 99/103 data/customdata/images/image_099.jpg: 512x512 3 exits, Done. (0.021s)\n",
            "image 100/103 data/customdata/images/image_100.jpg: 512x512 1 exits, Done. (0.021s)\n",
            "image 101/103 data/customdata/images/image_101.jpg: 512x512 1 exits, Done. (0.021s)\n",
            "image 102/103 data/customdata/images/image_102.jpg: 512x512 1 exits, Done. (0.021s)\n",
            "image 103/103 data/customdata/images/image_103.jpg: 512x512 2 exits, Done. (0.021s)\n",
            "Results saved to /content/gdrive/MyDrive/ERA V2/session12/YoloV3/output\n",
            "Done. (6.815s)\n"
          ]
        }
      ]
    },
    {
      "cell_type": "code",
      "source": [],
      "metadata": {
        "id": "1eVUn8QSmlQK"
      },
      "execution_count": null,
      "outputs": []
    }
  ]
}